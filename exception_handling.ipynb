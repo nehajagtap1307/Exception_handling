{
  "nbformat": 4,
  "nbformat_minor": 0,
  "metadata": {
    "colab": {
      "provenance": []
    },
    "kernelspec": {
      "name": "python3",
      "display_name": "Python 3"
    },
    "language_info": {
      "name": "python"
    }
  },
  "cells": [
    {
      "cell_type": "code",
      "execution_count": 4,
      "metadata": {
        "colab": {
          "base_uri": "https://localhost:8080/"
        },
        "id": "Nh8vcNYrI5pF",
        "outputId": "2588340f-9033-4448-a8d7-5a94fdd4c133"
      },
      "outputs": [
        {
          "output_type": "stream",
          "name": "stdout",
          "text": [
            "zero division error occurred and handled\n",
            "a is not less than 4\n"
          ]
        }
      ],
      "source": [
        "#Catching specific exceptions by using try_except\n",
        "def fun(a):\n",
        "    if a < 4:\n",
        "        try:\n",
        "            b = a / (a - 3)\n",
        "            print(\"value of b =\", b)\n",
        "        except ZeroDivisionError:\n",
        "            print(\"zero division error occurred and handled\")\n",
        "    else:\n",
        "        print(\"a is not less than 4\")\n",
        "\n",
        "\n",
        "fun(3)\n",
        "fun(5)\n",
        "\n",
        "# output\n",
        "# zero division error occurred and handled\n",
        "# a is not less than 4\n"
      ]
    },
    {
      "cell_type": "code",
      "source": [
        "\n",
        "\n",
        "def aby(a, b):\n",
        "    try:\n",
        "        c = (a + b) / (a - b)\n",
        "    except ZeroDivisionError:\n",
        "        print(\"Division by zero occurred\")\n",
        "    else:\n",
        "        print(c)\n",
        "\n",
        "\n",
        "aby(2.0, 3.0)\n",
        "aby(3.0, 3.0)\n",
        "\n",
        "\n",
        "# output\n",
        "# -5.0\n",
        "# Division by zero occurred"
      ],
      "metadata": {
        "colab": {
          "base_uri": "https://localhost:8080/"
        },
        "id": "uxxm3MU6M6Lf",
        "outputId": "953ab24b-d581-4ed0-922c-8d177dad67cd"
      },
      "execution_count": 7,
      "outputs": [
        {
          "output_type": "stream",
          "name": "stdout",
          "text": [
            "-5.0\n",
            "Division by zero occurred\n"
          ]
        }
      ]
    },
    {
      "cell_type": "code",
      "source": [
        "# Finally keyword\n",
        "try:\n",
        "    k=5//0\n",
        "    print(k)\n",
        "except ZeroDivisionError:\n",
        "    print(\"can't divide by zero\")\n",
        "finally:\n",
        "    print(\"this is always executed\")\n",
        "\n",
        "# output\n",
        "#  can't divide by zero\n",
        "#  this is always executed"
      ],
      "metadata": {
        "colab": {
          "base_uri": "https://localhost:8080/"
        },
        "id": "uzYqueepO8wQ",
        "outputId": "55f20371-9b89-4b6b-c32d-7b852cd79e95"
      },
      "execution_count": 13,
      "outputs": [
        {
          "output_type": "stream",
          "name": "stdout",
          "text": [
            "can't divide by zero\n",
            "this is always executed\n"
          ]
        }
      ]
    },
    {
      "cell_type": "code",
      "source": [],
      "metadata": {
        "id": "StILVADJQ092"
      },
      "execution_count": null,
      "outputs": []
    }
  ]
}